{
 "cells": [
  {
   "cell_type": "code",
   "execution_count": 1,
   "id": "e30be9c5",
   "metadata": {},
   "outputs": [
    {
     "name": "stdout",
     "output_type": "stream",
     "text": [
      "(2969, 92)\n"
     ]
    }
   ],
   "source": [
    "from pybaseball import playerid_lookup, statcast_pitcher\n",
    "\n",
    "playerid_lookup('cole', 'gerrit')\n",
    "\n",
    "cole = statcast_pitcher('2021-04-01', '2021-10-04', 543037)\n",
    "print(cole.shape)\n",
    "cole.head()\n",
    "\n",
    "cole.drop(columns = ['spin_dir', 'spin_rate_deprecated', 'break_angle_deprecated', \n",
    "                     'break_length_deprecated', 'tfs_deprecated', 'tfs_zulu_deprecated', \n",
    "                     'umpire', 'sv_id'], inplace = True)\n",
    "\n",
    "cole.to_csv('./data/gerrit-cole.csv')"
   ]
  }
 ],
 "metadata": {
  "kernelspec": {
   "display_name": "Python 3",
   "language": "python",
   "name": "python3"
  },
  "language_info": {
   "codemirror_mode": {
    "name": "ipython",
    "version": 3
   },
   "file_extension": ".py",
   "mimetype": "text/x-python",
   "name": "python",
   "nbconvert_exporter": "python",
   "pygments_lexer": "ipython3",
   "version": "3.8.8"
  }
 },
 "nbformat": 4,
 "nbformat_minor": 5
}
